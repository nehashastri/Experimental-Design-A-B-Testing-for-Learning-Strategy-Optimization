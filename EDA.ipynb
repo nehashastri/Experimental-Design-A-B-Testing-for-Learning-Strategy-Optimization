{
  "nbformat": 4,
  "nbformat_minor": 0,
  "metadata": {
    "colab": {
      "provenance": []
    },
    "kernelspec": {
      "name": "python3",
      "display_name": "Python 3"
    },
    "language_info": {
      "name": "python"
    }
  },
  "cells": [
    {
      "cell_type": "code",
      "execution_count": null,
      "metadata": {
        "id": "m1OAUX5L2gdZ"
      },
      "outputs": [],
      "source": [
        "import pandas as pd\n",
        "pd.set_option('display.max_rows', None)\n",
        "pd.set_option('display.max_columns', None)\n"
      ]
    },
    {
      "cell_type": "code",
      "source": [
        "pre_survey = pd.read_csv('pre_survey.csv')\n",
        "pre_survey.info()"
      ],
      "metadata": {
        "colab": {
          "base_uri": "https://localhost:8080/"
        },
        "id": "C37hkf9j3iyI",
        "outputId": "df76504b-e37c-4fd4-fcd1-f660d8d53698"
      },
      "execution_count": null,
      "outputs": [
        {
          "output_type": "stream",
          "name": "stdout",
          "text": [
            "<class 'pandas.core.frame.DataFrame'>\n",
            "RangeIndex: 92 entries, 0 to 91\n",
            "Data columns (total 14 columns):\n",
            " #   Column                           Non-Null Count  Dtype  \n",
            "---  ------                           --------------  -----  \n",
            " 0   pre_class_time_spent             92 non-null     int64  \n",
            " 1   RecipientEmail                   90 non-null     object \n",
            " 2   pre_class_DistributionChannel    92 non-null     object \n",
            " 3   CVQ1_gender_bool                 69 non-null     float64\n",
            " 4   CVQ2_read_stubhub_case_bool      70 non-null     float64\n",
            " 5   CVQ3_knowledge_causality_val     70 non-null     float64\n",
            " 6   CVQ4_likeliness_participate_val  70 non-null     float64\n",
            " 7   RQ1_understand_material_val      55 non-null     float64\n",
            " 8   RQ2_remember_tomorrow_val        55 non-null     float64\n",
            " 9   RQ3_active_involvement_val       55 non-null     float64\n",
            " 10  Score                            92 non-null     int64  \n",
            " 11  Treatment                        90 non-null     float64\n",
            " 12  Progress                         92 non-null     float64\n",
            " 13  pre_class_incomplete             92 non-null     int64  \n",
            "dtypes: float64(9), int64(3), object(2)\n",
            "memory usage: 10.2+ KB\n"
          ]
        }
      ]
    },
    {
      "cell_type": "code",
      "source": [
        "post_survey = pd.read_csv('post_survey.csv')\n",
        "post_survey.info()"
      ],
      "metadata": {
        "colab": {
          "base_uri": "https://localhost:8080/"
        },
        "id": "fNwP1rQkR6NL",
        "outputId": "766266bd-d667-43d5-b95c-fee43d9b63d5"
      },
      "execution_count": null,
      "outputs": [
        {
          "output_type": "stream",
          "name": "stdout",
          "text": [
            "<class 'pandas.core.frame.DataFrame'>\n",
            "RangeIndex: 69 entries, 0 to 68\n",
            "Data columns (total 11 columns):\n",
            " #   Column                                      Non-Null Count  Dtype  \n",
            "---  ------                                      --------------  -----  \n",
            " 0   post_class_time_spent                       69 non-null     int64  \n",
            " 1   RecipientEmail                              69 non-null     object \n",
            " 2   post_class_DistributionChannel              69 non-null     object \n",
            " 3   post_class_recall_val                       57 non-null     float64\n",
            " 4   post_class_class_participation_val          57 non-null     float64\n",
            " 5   post_class_preparedness_val                 57 non-null     float64\n",
            " 6   post_class_willingness_to_participate_bool  57 non-null     float64\n",
            " 7   post_class_choice                           57 non-null     object \n",
            " 8   post_class_feedback                         7 non-null      object \n",
            " 9   Group                                       69 non-null     int64  \n",
            " 10  post_class_incomplete                       69 non-null     float64\n",
            "dtypes: float64(5), int64(2), object(4)\n",
            "memory usage: 6.1+ KB\n"
          ]
        }
      ]
    },
    {
      "cell_type": "code",
      "source": [
        "merged_survey = pd.merge(pre_survey, post_survey, on='RecipientEmail', how='left')\n",
        "merged_survey.info()"
      ],
      "metadata": {
        "colab": {
          "base_uri": "https://localhost:8080/"
        },
        "id": "takruQTtR930",
        "outputId": "429dd53d-d0cd-4124-8b44-e2faae98abd9"
      },
      "execution_count": null,
      "outputs": [
        {
          "output_type": "stream",
          "name": "stdout",
          "text": [
            "<class 'pandas.core.frame.DataFrame'>\n",
            "RangeIndex: 92 entries, 0 to 91\n",
            "Data columns (total 24 columns):\n",
            " #   Column                                      Non-Null Count  Dtype  \n",
            "---  ------                                      --------------  -----  \n",
            " 0   pre_class_time_spent                        92 non-null     int64  \n",
            " 1   RecipientEmail                              90 non-null     object \n",
            " 2   pre_class_DistributionChannel               92 non-null     object \n",
            " 3   CVQ1_gender_bool                            69 non-null     float64\n",
            " 4   CVQ2_read_stubhub_case_bool                 70 non-null     float64\n",
            " 5   CVQ3_knowledge_causality_val                70 non-null     float64\n",
            " 6   CVQ4_likeliness_participate_val             70 non-null     float64\n",
            " 7   RQ1_understand_material_val                 55 non-null     float64\n",
            " 8   RQ2_remember_tomorrow_val                   55 non-null     float64\n",
            " 9   RQ3_active_involvement_val                  55 non-null     float64\n",
            " 10  Score                                       92 non-null     int64  \n",
            " 11  Treatment                                   90 non-null     float64\n",
            " 12  Progress                                    92 non-null     float64\n",
            " 13  pre_class_incomplete                        92 non-null     int64  \n",
            " 14  post_class_time_spent                       71 non-null     float64\n",
            " 15  post_class_DistributionChannel              71 non-null     object \n",
            " 16  post_class_recall_val                       62 non-null     float64\n",
            " 17  post_class_class_participation_val          62 non-null     float64\n",
            " 18  post_class_preparedness_val                 62 non-null     float64\n",
            " 19  post_class_willingness_to_participate_bool  62 non-null     float64\n",
            " 20  post_class_choice                           62 non-null     object \n",
            " 21  post_class_feedback                         10 non-null     object \n",
            " 22  Group                                       71 non-null     float64\n",
            " 23  post_class_incomplete                       71 non-null     float64\n",
            "dtypes: float64(16), int64(3), object(5)\n",
            "memory usage: 17.4+ KB\n"
          ]
        }
      ]
    },
    {
      "cell_type": "code",
      "source": [
        "pre_survey.groupby('Treatment')['pre_class_time_spent'].describe().T"
      ],
      "metadata": {
        "colab": {
          "base_uri": "https://localhost:8080/",
          "height": 300
        },
        "id": "4dJz5HH93NYO",
        "outputId": "7c703668-f826-4cd9-cd0e-199b8ac8ce25"
      },
      "execution_count": null,
      "outputs": [
        {
          "output_type": "execute_result",
          "data": {
            "text/plain": [
              "Treatment           0.0           1.0\n",
              "count         44.000000     46.000000\n",
              "mean        6705.772727   7517.500000\n",
              "std        15709.146453  14167.174726\n",
              "min            8.000000     10.000000\n",
              "25%           32.500000     58.250000\n",
              "50%          137.000000    262.500000\n",
              "75%          870.750000   6090.000000\n",
              "max        69706.000000  52950.000000"
            ],
            "text/html": [
              "\n",
              "  <div id=\"df-9003387d-840f-4318-aec1-ae87a70f7b55\" class=\"colab-df-container\">\n",
              "    <div>\n",
              "<style scoped>\n",
              "    .dataframe tbody tr th:only-of-type {\n",
              "        vertical-align: middle;\n",
              "    }\n",
              "\n",
              "    .dataframe tbody tr th {\n",
              "        vertical-align: top;\n",
              "    }\n",
              "\n",
              "    .dataframe thead th {\n",
              "        text-align: right;\n",
              "    }\n",
              "</style>\n",
              "<table border=\"1\" class=\"dataframe\">\n",
              "  <thead>\n",
              "    <tr style=\"text-align: right;\">\n",
              "      <th>Treatment</th>\n",
              "      <th>0.0</th>\n",
              "      <th>1.0</th>\n",
              "    </tr>\n",
              "  </thead>\n",
              "  <tbody>\n",
              "    <tr>\n",
              "      <th>count</th>\n",
              "      <td>44.000000</td>\n",
              "      <td>46.000000</td>\n",
              "    </tr>\n",
              "    <tr>\n",
              "      <th>mean</th>\n",
              "      <td>6705.772727</td>\n",
              "      <td>7517.500000</td>\n",
              "    </tr>\n",
              "    <tr>\n",
              "      <th>std</th>\n",
              "      <td>15709.146453</td>\n",
              "      <td>14167.174726</td>\n",
              "    </tr>\n",
              "    <tr>\n",
              "      <th>min</th>\n",
              "      <td>8.000000</td>\n",
              "      <td>10.000000</td>\n",
              "    </tr>\n",
              "    <tr>\n",
              "      <th>25%</th>\n",
              "      <td>32.500000</td>\n",
              "      <td>58.250000</td>\n",
              "    </tr>\n",
              "    <tr>\n",
              "      <th>50%</th>\n",
              "      <td>137.000000</td>\n",
              "      <td>262.500000</td>\n",
              "    </tr>\n",
              "    <tr>\n",
              "      <th>75%</th>\n",
              "      <td>870.750000</td>\n",
              "      <td>6090.000000</td>\n",
              "    </tr>\n",
              "    <tr>\n",
              "      <th>max</th>\n",
              "      <td>69706.000000</td>\n",
              "      <td>52950.000000</td>\n",
              "    </tr>\n",
              "  </tbody>\n",
              "</table>\n",
              "</div>\n",
              "    <div class=\"colab-df-buttons\">\n",
              "\n",
              "  <div class=\"colab-df-container\">\n",
              "    <button class=\"colab-df-convert\" onclick=\"convertToInteractive('df-9003387d-840f-4318-aec1-ae87a70f7b55')\"\n",
              "            title=\"Convert this dataframe to an interactive table.\"\n",
              "            style=\"display:none;\">\n",
              "\n",
              "  <svg xmlns=\"http://www.w3.org/2000/svg\" height=\"24px\" viewBox=\"0 -960 960 960\">\n",
              "    <path d=\"M120-120v-720h720v720H120Zm60-500h600v-160H180v160Zm220 220h160v-160H400v160Zm0 220h160v-160H400v160ZM180-400h160v-160H180v160Zm440 0h160v-160H620v160ZM180-180h160v-160H180v160Zm440 0h160v-160H620v160Z\"/>\n",
              "  </svg>\n",
              "    </button>\n",
              "\n",
              "  <style>\n",
              "    .colab-df-container {\n",
              "      display:flex;\n",
              "      gap: 12px;\n",
              "    }\n",
              "\n",
              "    .colab-df-convert {\n",
              "      background-color: #E8F0FE;\n",
              "      border: none;\n",
              "      border-radius: 50%;\n",
              "      cursor: pointer;\n",
              "      display: none;\n",
              "      fill: #1967D2;\n",
              "      height: 32px;\n",
              "      padding: 0 0 0 0;\n",
              "      width: 32px;\n",
              "    }\n",
              "\n",
              "    .colab-df-convert:hover {\n",
              "      background-color: #E2EBFA;\n",
              "      box-shadow: 0px 1px 2px rgba(60, 64, 67, 0.3), 0px 1px 3px 1px rgba(60, 64, 67, 0.15);\n",
              "      fill: #174EA6;\n",
              "    }\n",
              "\n",
              "    .colab-df-buttons div {\n",
              "      margin-bottom: 4px;\n",
              "    }\n",
              "\n",
              "    [theme=dark] .colab-df-convert {\n",
              "      background-color: #3B4455;\n",
              "      fill: #D2E3FC;\n",
              "    }\n",
              "\n",
              "    [theme=dark] .colab-df-convert:hover {\n",
              "      background-color: #434B5C;\n",
              "      box-shadow: 0px 1px 3px 1px rgba(0, 0, 0, 0.15);\n",
              "      filter: drop-shadow(0px 1px 2px rgba(0, 0, 0, 0.3));\n",
              "      fill: #FFFFFF;\n",
              "    }\n",
              "  </style>\n",
              "\n",
              "    <script>\n",
              "      const buttonEl =\n",
              "        document.querySelector('#df-9003387d-840f-4318-aec1-ae87a70f7b55 button.colab-df-convert');\n",
              "      buttonEl.style.display =\n",
              "        google.colab.kernel.accessAllowed ? 'block' : 'none';\n",
              "\n",
              "      async function convertToInteractive(key) {\n",
              "        const element = document.querySelector('#df-9003387d-840f-4318-aec1-ae87a70f7b55');\n",
              "        const dataTable =\n",
              "          await google.colab.kernel.invokeFunction('convertToInteractive',\n",
              "                                                    [key], {});\n",
              "        if (!dataTable) return;\n",
              "\n",
              "        const docLinkHtml = 'Like what you see? Visit the ' +\n",
              "          '<a target=\"_blank\" href=https://colab.research.google.com/notebooks/data_table.ipynb>data table notebook</a>'\n",
              "          + ' to learn more about interactive tables.';\n",
              "        element.innerHTML = '';\n",
              "        dataTable['output_type'] = 'display_data';\n",
              "        await google.colab.output.renderOutput(dataTable, element);\n",
              "        const docLink = document.createElement('div');\n",
              "        docLink.innerHTML = docLinkHtml;\n",
              "        element.appendChild(docLink);\n",
              "      }\n",
              "    </script>\n",
              "  </div>\n",
              "\n",
              "\n",
              "<div id=\"df-2a2b4759-f8a0-43c9-b706-94585f70961a\">\n",
              "  <button class=\"colab-df-quickchart\" onclick=\"quickchart('df-2a2b4759-f8a0-43c9-b706-94585f70961a')\"\n",
              "            title=\"Suggest charts\"\n",
              "            style=\"display:none;\">\n",
              "\n",
              "<svg xmlns=\"http://www.w3.org/2000/svg\" height=\"24px\"viewBox=\"0 0 24 24\"\n",
              "     width=\"24px\">\n",
              "    <g>\n",
              "        <path d=\"M19 3H5c-1.1 0-2 .9-2 2v14c0 1.1.9 2 2 2h14c1.1 0 2-.9 2-2V5c0-1.1-.9-2-2-2zM9 17H7v-7h2v7zm4 0h-2V7h2v10zm4 0h-2v-4h2v4z\"/>\n",
              "    </g>\n",
              "</svg>\n",
              "  </button>\n",
              "\n",
              "<style>\n",
              "  .colab-df-quickchart {\n",
              "      --bg-color: #E8F0FE;\n",
              "      --fill-color: #1967D2;\n",
              "      --hover-bg-color: #E2EBFA;\n",
              "      --hover-fill-color: #174EA6;\n",
              "      --disabled-fill-color: #AAA;\n",
              "      --disabled-bg-color: #DDD;\n",
              "  }\n",
              "\n",
              "  [theme=dark] .colab-df-quickchart {\n",
              "      --bg-color: #3B4455;\n",
              "      --fill-color: #D2E3FC;\n",
              "      --hover-bg-color: #434B5C;\n",
              "      --hover-fill-color: #FFFFFF;\n",
              "      --disabled-bg-color: #3B4455;\n",
              "      --disabled-fill-color: #666;\n",
              "  }\n",
              "\n",
              "  .colab-df-quickchart {\n",
              "    background-color: var(--bg-color);\n",
              "    border: none;\n",
              "    border-radius: 50%;\n",
              "    cursor: pointer;\n",
              "    display: none;\n",
              "    fill: var(--fill-color);\n",
              "    height: 32px;\n",
              "    padding: 0;\n",
              "    width: 32px;\n",
              "  }\n",
              "\n",
              "  .colab-df-quickchart:hover {\n",
              "    background-color: var(--hover-bg-color);\n",
              "    box-shadow: 0 1px 2px rgba(60, 64, 67, 0.3), 0 1px 3px 1px rgba(60, 64, 67, 0.15);\n",
              "    fill: var(--button-hover-fill-color);\n",
              "  }\n",
              "\n",
              "  .colab-df-quickchart-complete:disabled,\n",
              "  .colab-df-quickchart-complete:disabled:hover {\n",
              "    background-color: var(--disabled-bg-color);\n",
              "    fill: var(--disabled-fill-color);\n",
              "    box-shadow: none;\n",
              "  }\n",
              "\n",
              "  .colab-df-spinner {\n",
              "    border: 2px solid var(--fill-color);\n",
              "    border-color: transparent;\n",
              "    border-bottom-color: var(--fill-color);\n",
              "    animation:\n",
              "      spin 1s steps(1) infinite;\n",
              "  }\n",
              "\n",
              "  @keyframes spin {\n",
              "    0% {\n",
              "      border-color: transparent;\n",
              "      border-bottom-color: var(--fill-color);\n",
              "      border-left-color: var(--fill-color);\n",
              "    }\n",
              "    20% {\n",
              "      border-color: transparent;\n",
              "      border-left-color: var(--fill-color);\n",
              "      border-top-color: var(--fill-color);\n",
              "    }\n",
              "    30% {\n",
              "      border-color: transparent;\n",
              "      border-left-color: var(--fill-color);\n",
              "      border-top-color: var(--fill-color);\n",
              "      border-right-color: var(--fill-color);\n",
              "    }\n",
              "    40% {\n",
              "      border-color: transparent;\n",
              "      border-right-color: var(--fill-color);\n",
              "      border-top-color: var(--fill-color);\n",
              "    }\n",
              "    60% {\n",
              "      border-color: transparent;\n",
              "      border-right-color: var(--fill-color);\n",
              "    }\n",
              "    80% {\n",
              "      border-color: transparent;\n",
              "      border-right-color: var(--fill-color);\n",
              "      border-bottom-color: var(--fill-color);\n",
              "    }\n",
              "    90% {\n",
              "      border-color: transparent;\n",
              "      border-bottom-color: var(--fill-color);\n",
              "    }\n",
              "  }\n",
              "</style>\n",
              "\n",
              "  <script>\n",
              "    async function quickchart(key) {\n",
              "      const quickchartButtonEl =\n",
              "        document.querySelector('#' + key + ' button');\n",
              "      quickchartButtonEl.disabled = true;  // To prevent multiple clicks.\n",
              "      quickchartButtonEl.classList.add('colab-df-spinner');\n",
              "      try {\n",
              "        const charts = await google.colab.kernel.invokeFunction(\n",
              "            'suggestCharts', [key], {});\n",
              "      } catch (error) {\n",
              "        console.error('Error during call to suggestCharts:', error);\n",
              "      }\n",
              "      quickchartButtonEl.classList.remove('colab-df-spinner');\n",
              "      quickchartButtonEl.classList.add('colab-df-quickchart-complete');\n",
              "    }\n",
              "    (() => {\n",
              "      let quickchartButtonEl =\n",
              "        document.querySelector('#df-2a2b4759-f8a0-43c9-b706-94585f70961a button');\n",
              "      quickchartButtonEl.style.display =\n",
              "        google.colab.kernel.accessAllowed ? 'block' : 'none';\n",
              "    })();\n",
              "  </script>\n",
              "</div>\n",
              "\n",
              "    </div>\n",
              "  </div>\n"
            ],
            "application/vnd.google.colaboratory.intrinsic+json": {
              "type": "dataframe",
              "summary": "{\n  \"name\": \"pre_survey\",\n  \"rows\": 8,\n  \"fields\": [\n    {\n      \"column\": 0.0,\n      \"properties\": {\n        \"dtype\": \"number\",\n        \"std\": 24099.093857840453,\n        \"min\": 8.0,\n        \"max\": 69706.0,\n        \"num_unique_values\": 8,\n        \"samples\": [\n          6705.772727272727,\n          137.0,\n          44.0\n        ],\n        \"semantic_type\": \"\",\n        \"description\": \"\"\n      }\n    },\n    {\n      \"column\": 1.0,\n      \"properties\": {\n        \"dtype\": \"number\",\n        \"std\": 18031.348197385945,\n        \"min\": 10.0,\n        \"max\": 52950.0,\n        \"num_unique_values\": 8,\n        \"samples\": [\n          7517.5,\n          262.5,\n          46.0\n        ],\n        \"semantic_type\": \"\",\n        \"description\": \"\"\n      }\n    }\n  ]\n}"
            }
          },
          "metadata": {},
          "execution_count": 3
        }
      ]
    },
    {
      "cell_type": "markdown",
      "source": [
        "Some people took the quiz and then probably completed the next day when the professor shared the QR code. Mode might be a better metric to measure the difference in time spent. The time spent by people in treatment is twice as much as the time spent by control."
      ],
      "metadata": {
        "id": "7c21WmwX5BS2"
      }
    },
    {
      "cell_type": "code",
      "source": [
        "#Expressed in percentages\n",
        "pre_survey.groupby('Treatment')['pre_class_incomplete'].value_counts()*100/pre_survey.groupby('Treatment')['pre_class_incomplete'].count()"
      ],
      "metadata": {
        "colab": {
          "base_uri": "https://localhost:8080/",
          "height": 241
        },
        "id": "vpQgsc0H6SJV",
        "outputId": "4b1c3c43-13b4-422a-9640-f39be689ec4e"
      },
      "execution_count": null,
      "outputs": [
        {
          "output_type": "execute_result",
          "data": {
            "text/plain": [
              "Treatment  pre_class_incomplete\n",
              "0.0        0                       70.454545\n",
              "           1                       29.545455\n",
              "1.0        0                       52.173913\n",
              "           1                       47.826087\n",
              "dtype: float64"
            ],
            "text/html": [
              "<div>\n",
              "<style scoped>\n",
              "    .dataframe tbody tr th:only-of-type {\n",
              "        vertical-align: middle;\n",
              "    }\n",
              "\n",
              "    .dataframe tbody tr th {\n",
              "        vertical-align: top;\n",
              "    }\n",
              "\n",
              "    .dataframe thead th {\n",
              "        text-align: right;\n",
              "    }\n",
              "</style>\n",
              "<table border=\"1\" class=\"dataframe\">\n",
              "  <thead>\n",
              "    <tr style=\"text-align: right;\">\n",
              "      <th></th>\n",
              "      <th></th>\n",
              "      <th>0</th>\n",
              "    </tr>\n",
              "    <tr>\n",
              "      <th>Treatment</th>\n",
              "      <th>pre_class_incomplete</th>\n",
              "      <th></th>\n",
              "    </tr>\n",
              "  </thead>\n",
              "  <tbody>\n",
              "    <tr>\n",
              "      <th rowspan=\"2\" valign=\"top\">0.0</th>\n",
              "      <th>0</th>\n",
              "      <td>70.454545</td>\n",
              "    </tr>\n",
              "    <tr>\n",
              "      <th>1</th>\n",
              "      <td>29.545455</td>\n",
              "    </tr>\n",
              "    <tr>\n",
              "      <th rowspan=\"2\" valign=\"top\">1.0</th>\n",
              "      <th>0</th>\n",
              "      <td>52.173913</td>\n",
              "    </tr>\n",
              "    <tr>\n",
              "      <th>1</th>\n",
              "      <td>47.826087</td>\n",
              "    </tr>\n",
              "  </tbody>\n",
              "</table>\n",
              "</div><br><label><b>dtype:</b> float64</label>"
            ]
          },
          "metadata": {},
          "execution_count": 4
        }
      ]
    },
    {
      "cell_type": "markdown",
      "source": [
        "More % of people from the Treatment didn't complete the survey, probably because it was too long.\n"
      ],
      "metadata": {
        "id": "3_V5jMMj6e99"
      }
    },
    {
      "cell_type": "code",
      "source": [
        "pre_survey.groupby('CVQ2_read_stubhub_case_bool')['pre_class_incomplete'].value_counts()*100/pre_survey.groupby('CVQ2_read_stubhub_case_bool')['pre_class_incomplete'].count()"
      ],
      "metadata": {
        "colab": {
          "base_uri": "https://localhost:8080/",
          "height": 241
        },
        "id": "Ie8ryG1I7xLN",
        "outputId": "1f8c5e57-3c61-45b7-cab4-5c86834d97a6"
      },
      "execution_count": null,
      "outputs": [
        {
          "output_type": "execute_result",
          "data": {
            "text/plain": [
              "CVQ2_read_stubhub_case_bool  pre_class_incomplete\n",
              "0.0                          0                       64.705882\n",
              "                             1                       35.294118\n",
              "1.0                          0                       83.018868\n",
              "                             1                       16.981132\n",
              "dtype: float64"
            ],
            "text/html": [
              "<div>\n",
              "<style scoped>\n",
              "    .dataframe tbody tr th:only-of-type {\n",
              "        vertical-align: middle;\n",
              "    }\n",
              "\n",
              "    .dataframe tbody tr th {\n",
              "        vertical-align: top;\n",
              "    }\n",
              "\n",
              "    .dataframe thead th {\n",
              "        text-align: right;\n",
              "    }\n",
              "</style>\n",
              "<table border=\"1\" class=\"dataframe\">\n",
              "  <thead>\n",
              "    <tr style=\"text-align: right;\">\n",
              "      <th></th>\n",
              "      <th></th>\n",
              "      <th>0</th>\n",
              "    </tr>\n",
              "    <tr>\n",
              "      <th>CVQ2_read_stubhub_case_bool</th>\n",
              "      <th>pre_class_incomplete</th>\n",
              "      <th></th>\n",
              "    </tr>\n",
              "  </thead>\n",
              "  <tbody>\n",
              "    <tr>\n",
              "      <th rowspan=\"2\" valign=\"top\">0.0</th>\n",
              "      <th>0</th>\n",
              "      <td>64.705882</td>\n",
              "    </tr>\n",
              "    <tr>\n",
              "      <th>1</th>\n",
              "      <td>35.294118</td>\n",
              "    </tr>\n",
              "    <tr>\n",
              "      <th rowspan=\"2\" valign=\"top\">1.0</th>\n",
              "      <th>0</th>\n",
              "      <td>83.018868</td>\n",
              "    </tr>\n",
              "    <tr>\n",
              "      <th>1</th>\n",
              "      <td>16.981132</td>\n",
              "    </tr>\n",
              "  </tbody>\n",
              "</table>\n",
              "</div><br><label><b>dtype:</b> float64</label>"
            ]
          },
          "metadata": {},
          "execution_count": 5
        }
      ]
    },
    {
      "cell_type": "markdown",
      "source": [
        "The percentage of people who read the case and didnt finish the survey is half as much as the ones that didnt read the case and didnt finish the survey."
      ],
      "metadata": {
        "id": "ECqhptIA8Vvc"
      }
    },
    {
      "cell_type": "code",
      "source": [
        "pre_survey.groupby(['CVQ2_read_stubhub_case_bool', 'Treatment'])['pre_class_time_spent'].describe().T"
      ],
      "metadata": {
        "colab": {
          "base_uri": "https://localhost:8080/",
          "height": 331
        },
        "id": "zGLDOHH2ODAV",
        "outputId": "497c1a8c-e1d5-42f7-d5a5-e6a5bb26abba"
      },
      "execution_count": null,
      "outputs": [
        {
          "output_type": "execute_result",
          "data": {
            "text/plain": [
              "CVQ2_read_stubhub_case_bool           0.0                         1.0  \\\n",
              "Treatment                             0.0           1.0           0.0   \n",
              "count                            9.000000      8.000000     25.000000   \n",
              "mean                         10547.888889  15020.750000   5941.880000   \n",
              "std                          23139.706688  20382.016869  12541.145902   \n",
              "min                             31.000000     42.000000     30.000000   \n",
              "25%                            100.000000    335.500000     69.000000   \n",
              "50%                            205.000000   2637.000000    160.000000   \n",
              "75%                           3967.000000  29699.000000   1668.000000   \n",
              "max                          69706.000000  52950.000000  43135.000000   \n",
              "\n",
              "CVQ2_read_stubhub_case_bool                \n",
              "Treatment                             1.0  \n",
              "count                           28.000000  \n",
              "mean                          7055.071429  \n",
              "std                          13258.486998  \n",
              "min                             29.000000  \n",
              "25%                            144.000000  \n",
              "50%                            334.500000  \n",
              "75%                           6312.250000  \n",
              "max                          46429.000000  "
            ],
            "text/html": [
              "\n",
              "  <div id=\"df-eefa738b-2db8-4ee9-902b-923f7a71f10b\" class=\"colab-df-container\">\n",
              "    <div>\n",
              "<style scoped>\n",
              "    .dataframe tbody tr th:only-of-type {\n",
              "        vertical-align: middle;\n",
              "    }\n",
              "\n",
              "    .dataframe tbody tr th {\n",
              "        vertical-align: top;\n",
              "    }\n",
              "\n",
              "    .dataframe thead tr th {\n",
              "        text-align: left;\n",
              "    }\n",
              "</style>\n",
              "<table border=\"1\" class=\"dataframe\">\n",
              "  <thead>\n",
              "    <tr>\n",
              "      <th>CVQ2_read_stubhub_case_bool</th>\n",
              "      <th colspan=\"2\" halign=\"left\">0.0</th>\n",
              "      <th colspan=\"2\" halign=\"left\">1.0</th>\n",
              "    </tr>\n",
              "    <tr>\n",
              "      <th>Treatment</th>\n",
              "      <th>0.0</th>\n",
              "      <th>1.0</th>\n",
              "      <th>0.0</th>\n",
              "      <th>1.0</th>\n",
              "    </tr>\n",
              "  </thead>\n",
              "  <tbody>\n",
              "    <tr>\n",
              "      <th>count</th>\n",
              "      <td>9.000000</td>\n",
              "      <td>8.000000</td>\n",
              "      <td>25.000000</td>\n",
              "      <td>28.000000</td>\n",
              "    </tr>\n",
              "    <tr>\n",
              "      <th>mean</th>\n",
              "      <td>10547.888889</td>\n",
              "      <td>15020.750000</td>\n",
              "      <td>5941.880000</td>\n",
              "      <td>7055.071429</td>\n",
              "    </tr>\n",
              "    <tr>\n",
              "      <th>std</th>\n",
              "      <td>23139.706688</td>\n",
              "      <td>20382.016869</td>\n",
              "      <td>12541.145902</td>\n",
              "      <td>13258.486998</td>\n",
              "    </tr>\n",
              "    <tr>\n",
              "      <th>min</th>\n",
              "      <td>31.000000</td>\n",
              "      <td>42.000000</td>\n",
              "      <td>30.000000</td>\n",
              "      <td>29.000000</td>\n",
              "    </tr>\n",
              "    <tr>\n",
              "      <th>25%</th>\n",
              "      <td>100.000000</td>\n",
              "      <td>335.500000</td>\n",
              "      <td>69.000000</td>\n",
              "      <td>144.000000</td>\n",
              "    </tr>\n",
              "    <tr>\n",
              "      <th>50%</th>\n",
              "      <td>205.000000</td>\n",
              "      <td>2637.000000</td>\n",
              "      <td>160.000000</td>\n",
              "      <td>334.500000</td>\n",
              "    </tr>\n",
              "    <tr>\n",
              "      <th>75%</th>\n",
              "      <td>3967.000000</td>\n",
              "      <td>29699.000000</td>\n",
              "      <td>1668.000000</td>\n",
              "      <td>6312.250000</td>\n",
              "    </tr>\n",
              "    <tr>\n",
              "      <th>max</th>\n",
              "      <td>69706.000000</td>\n",
              "      <td>52950.000000</td>\n",
              "      <td>43135.000000</td>\n",
              "      <td>46429.000000</td>\n",
              "    </tr>\n",
              "  </tbody>\n",
              "</table>\n",
              "</div>\n",
              "    <div class=\"colab-df-buttons\">\n",
              "\n",
              "  <div class=\"colab-df-container\">\n",
              "    <button class=\"colab-df-convert\" onclick=\"convertToInteractive('df-eefa738b-2db8-4ee9-902b-923f7a71f10b')\"\n",
              "            title=\"Convert this dataframe to an interactive table.\"\n",
              "            style=\"display:none;\">\n",
              "\n",
              "  <svg xmlns=\"http://www.w3.org/2000/svg\" height=\"24px\" viewBox=\"0 -960 960 960\">\n",
              "    <path d=\"M120-120v-720h720v720H120Zm60-500h600v-160H180v160Zm220 220h160v-160H400v160Zm0 220h160v-160H400v160ZM180-400h160v-160H180v160Zm440 0h160v-160H620v160ZM180-180h160v-160H180v160Zm440 0h160v-160H620v160Z\"/>\n",
              "  </svg>\n",
              "    </button>\n",
              "\n",
              "  <style>\n",
              "    .colab-df-container {\n",
              "      display:flex;\n",
              "      gap: 12px;\n",
              "    }\n",
              "\n",
              "    .colab-df-convert {\n",
              "      background-color: #E8F0FE;\n",
              "      border: none;\n",
              "      border-radius: 50%;\n",
              "      cursor: pointer;\n",
              "      display: none;\n",
              "      fill: #1967D2;\n",
              "      height: 32px;\n",
              "      padding: 0 0 0 0;\n",
              "      width: 32px;\n",
              "    }\n",
              "\n",
              "    .colab-df-convert:hover {\n",
              "      background-color: #E2EBFA;\n",
              "      box-shadow: 0px 1px 2px rgba(60, 64, 67, 0.3), 0px 1px 3px 1px rgba(60, 64, 67, 0.15);\n",
              "      fill: #174EA6;\n",
              "    }\n",
              "\n",
              "    .colab-df-buttons div {\n",
              "      margin-bottom: 4px;\n",
              "    }\n",
              "\n",
              "    [theme=dark] .colab-df-convert {\n",
              "      background-color: #3B4455;\n",
              "      fill: #D2E3FC;\n",
              "    }\n",
              "\n",
              "    [theme=dark] .colab-df-convert:hover {\n",
              "      background-color: #434B5C;\n",
              "      box-shadow: 0px 1px 3px 1px rgba(0, 0, 0, 0.15);\n",
              "      filter: drop-shadow(0px 1px 2px rgba(0, 0, 0, 0.3));\n",
              "      fill: #FFFFFF;\n",
              "    }\n",
              "  </style>\n",
              "\n",
              "    <script>\n",
              "      const buttonEl =\n",
              "        document.querySelector('#df-eefa738b-2db8-4ee9-902b-923f7a71f10b button.colab-df-convert');\n",
              "      buttonEl.style.display =\n",
              "        google.colab.kernel.accessAllowed ? 'block' : 'none';\n",
              "\n",
              "      async function convertToInteractive(key) {\n",
              "        const element = document.querySelector('#df-eefa738b-2db8-4ee9-902b-923f7a71f10b');\n",
              "        const dataTable =\n",
              "          await google.colab.kernel.invokeFunction('convertToInteractive',\n",
              "                                                    [key], {});\n",
              "        if (!dataTable) return;\n",
              "\n",
              "        const docLinkHtml = 'Like what you see? Visit the ' +\n",
              "          '<a target=\"_blank\" href=https://colab.research.google.com/notebooks/data_table.ipynb>data table notebook</a>'\n",
              "          + ' to learn more about interactive tables.';\n",
              "        element.innerHTML = '';\n",
              "        dataTable['output_type'] = 'display_data';\n",
              "        await google.colab.output.renderOutput(dataTable, element);\n",
              "        const docLink = document.createElement('div');\n",
              "        docLink.innerHTML = docLinkHtml;\n",
              "        element.appendChild(docLink);\n",
              "      }\n",
              "    </script>\n",
              "  </div>\n",
              "\n",
              "\n",
              "<div id=\"df-0b331033-f817-4dd2-8942-01b4c8b7cde6\">\n",
              "  <button class=\"colab-df-quickchart\" onclick=\"quickchart('df-0b331033-f817-4dd2-8942-01b4c8b7cde6')\"\n",
              "            title=\"Suggest charts\"\n",
              "            style=\"display:none;\">\n",
              "\n",
              "<svg xmlns=\"http://www.w3.org/2000/svg\" height=\"24px\"viewBox=\"0 0 24 24\"\n",
              "     width=\"24px\">\n",
              "    <g>\n",
              "        <path d=\"M19 3H5c-1.1 0-2 .9-2 2v14c0 1.1.9 2 2 2h14c1.1 0 2-.9 2-2V5c0-1.1-.9-2-2-2zM9 17H7v-7h2v7zm4 0h-2V7h2v10zm4 0h-2v-4h2v4z\"/>\n",
              "    </g>\n",
              "</svg>\n",
              "  </button>\n",
              "\n",
              "<style>\n",
              "  .colab-df-quickchart {\n",
              "      --bg-color: #E8F0FE;\n",
              "      --fill-color: #1967D2;\n",
              "      --hover-bg-color: #E2EBFA;\n",
              "      --hover-fill-color: #174EA6;\n",
              "      --disabled-fill-color: #AAA;\n",
              "      --disabled-bg-color: #DDD;\n",
              "  }\n",
              "\n",
              "  [theme=dark] .colab-df-quickchart {\n",
              "      --bg-color: #3B4455;\n",
              "      --fill-color: #D2E3FC;\n",
              "      --hover-bg-color: #434B5C;\n",
              "      --hover-fill-color: #FFFFFF;\n",
              "      --disabled-bg-color: #3B4455;\n",
              "      --disabled-fill-color: #666;\n",
              "  }\n",
              "\n",
              "  .colab-df-quickchart {\n",
              "    background-color: var(--bg-color);\n",
              "    border: none;\n",
              "    border-radius: 50%;\n",
              "    cursor: pointer;\n",
              "    display: none;\n",
              "    fill: var(--fill-color);\n",
              "    height: 32px;\n",
              "    padding: 0;\n",
              "    width: 32px;\n",
              "  }\n",
              "\n",
              "  .colab-df-quickchart:hover {\n",
              "    background-color: var(--hover-bg-color);\n",
              "    box-shadow: 0 1px 2px rgba(60, 64, 67, 0.3), 0 1px 3px 1px rgba(60, 64, 67, 0.15);\n",
              "    fill: var(--button-hover-fill-color);\n",
              "  }\n",
              "\n",
              "  .colab-df-quickchart-complete:disabled,\n",
              "  .colab-df-quickchart-complete:disabled:hover {\n",
              "    background-color: var(--disabled-bg-color);\n",
              "    fill: var(--disabled-fill-color);\n",
              "    box-shadow: none;\n",
              "  }\n",
              "\n",
              "  .colab-df-spinner {\n",
              "    border: 2px solid var(--fill-color);\n",
              "    border-color: transparent;\n",
              "    border-bottom-color: var(--fill-color);\n",
              "    animation:\n",
              "      spin 1s steps(1) infinite;\n",
              "  }\n",
              "\n",
              "  @keyframes spin {\n",
              "    0% {\n",
              "      border-color: transparent;\n",
              "      border-bottom-color: var(--fill-color);\n",
              "      border-left-color: var(--fill-color);\n",
              "    }\n",
              "    20% {\n",
              "      border-color: transparent;\n",
              "      border-left-color: var(--fill-color);\n",
              "      border-top-color: var(--fill-color);\n",
              "    }\n",
              "    30% {\n",
              "      border-color: transparent;\n",
              "      border-left-color: var(--fill-color);\n",
              "      border-top-color: var(--fill-color);\n",
              "      border-right-color: var(--fill-color);\n",
              "    }\n",
              "    40% {\n",
              "      border-color: transparent;\n",
              "      border-right-color: var(--fill-color);\n",
              "      border-top-color: var(--fill-color);\n",
              "    }\n",
              "    60% {\n",
              "      border-color: transparent;\n",
              "      border-right-color: var(--fill-color);\n",
              "    }\n",
              "    80% {\n",
              "      border-color: transparent;\n",
              "      border-right-color: var(--fill-color);\n",
              "      border-bottom-color: var(--fill-color);\n",
              "    }\n",
              "    90% {\n",
              "      border-color: transparent;\n",
              "      border-bottom-color: var(--fill-color);\n",
              "    }\n",
              "  }\n",
              "</style>\n",
              "\n",
              "  <script>\n",
              "    async function quickchart(key) {\n",
              "      const quickchartButtonEl =\n",
              "        document.querySelector('#' + key + ' button');\n",
              "      quickchartButtonEl.disabled = true;  // To prevent multiple clicks.\n",
              "      quickchartButtonEl.classList.add('colab-df-spinner');\n",
              "      try {\n",
              "        const charts = await google.colab.kernel.invokeFunction(\n",
              "            'suggestCharts', [key], {});\n",
              "      } catch (error) {\n",
              "        console.error('Error during call to suggestCharts:', error);\n",
              "      }\n",
              "      quickchartButtonEl.classList.remove('colab-df-spinner');\n",
              "      quickchartButtonEl.classList.add('colab-df-quickchart-complete');\n",
              "    }\n",
              "    (() => {\n",
              "      let quickchartButtonEl =\n",
              "        document.querySelector('#df-0b331033-f817-4dd2-8942-01b4c8b7cde6 button');\n",
              "      quickchartButtonEl.style.display =\n",
              "        google.colab.kernel.accessAllowed ? 'block' : 'none';\n",
              "    })();\n",
              "  </script>\n",
              "</div>\n",
              "\n",
              "    </div>\n",
              "  </div>\n"
            ],
            "application/vnd.google.colaboratory.intrinsic+json": {
              "type": "dataframe",
              "summary": "{\n  \"name\": \"pre_survey\",\n  \"rows\": 8,\n  \"fields\": [\n    {\n      \"column\": [\n        0.0,\n        0.0\n      ],\n      \"properties\": {\n        \"dtype\": \"number\",\n        \"std\": 24116.854399241,\n        \"min\": 9.0,\n        \"max\": 69706.0,\n        \"num_unique_values\": 8,\n        \"samples\": [\n          10547.888888888889,\n          205.0,\n          9.0\n        ],\n        \"semantic_type\": \"\",\n        \"description\": \"\"\n      }\n    },\n    {\n      \"column\": [\n        0.0,\n        1.0\n      ],\n      \"properties\": {\n        \"dtype\": \"number\",\n        \"std\": 18903.811173661314,\n        \"min\": 8.0,\n        \"max\": 52950.0,\n        \"num_unique_values\": 8,\n        \"samples\": [\n          15020.75,\n          2637.0,\n          8.0\n        ],\n        \"semantic_type\": \"\",\n        \"description\": \"\"\n      }\n    },\n    {\n      \"column\": [\n        1.0,\n        0.0\n      ],\n      \"properties\": {\n        \"dtype\": \"number\",\n        \"std\": 14884.724141207354,\n        \"min\": 25.0,\n        \"max\": 43135.0,\n        \"num_unique_values\": 8,\n        \"samples\": [\n          5941.88,\n          160.0,\n          25.0\n        ],\n        \"semantic_type\": \"\",\n        \"description\": \"\"\n      }\n    },\n    {\n      \"column\": [\n        1.0,\n        1.0\n      ],\n      \"properties\": {\n        \"dtype\": \"number\",\n        \"std\": 15785.393862958785,\n        \"min\": 28.0,\n        \"max\": 46429.0,\n        \"num_unique_values\": 8,\n        \"samples\": [\n          7055.071428571428,\n          334.5,\n          28.0\n        ],\n        \"semantic_type\": \"\",\n        \"description\": \"\"\n      }\n    }\n  ]\n}"
            }
          },
          "metadata": {},
          "execution_count": 9
        }
      ]
    },
    {
      "cell_type": "markdown",
      "source": [
        "People who read the case on average spent less time than the people who didnt read the case."
      ],
      "metadata": {
        "id": "gskfkfSTN9yG"
      }
    },
    {
      "cell_type": "code",
      "source": [
        "import matplotlib.pyplot as plt\n",
        "import seaborn as sns\n",
        "\n",
        "sns.lmplot(\n",
        "    data=pre_survey,\n",
        "    x=\"CVQ4_likeliness_participate_val\",\n",
        "    y=\"CVQ3_knowledge_causality_val\",\n",
        "    hue=\"Treatment\")\n",
        "\n",
        "plt.xlabel(\"Likeliness to Participate\")\n",
        "plt.ylabel(\"Knowledge of Causality\")\n",
        "plt.title(\"Regression Plot by Treatment Group\")\n",
        "plt.show()\n"
      ],
      "metadata": {
        "colab": {
          "base_uri": "https://localhost:8080/",
          "height": 529
        },
        "id": "oFqv-CvrOl2t",
        "outputId": "666d0896-9fe4-4483-815f-cc2241e61511"
      },
      "execution_count": null,
      "outputs": [
        {
          "output_type": "display_data",
          "data": {
            "text/plain": [
              "<Figure size 581.986x500 with 1 Axes>"
            ],
            "image/png": "[encoded data removed]"
          },
          "metadata": {}
        }
      ]
    },
    {
      "cell_type": "markdown",
      "source": [
        "Higher knowledge in the subject has some correlation with likeliness to participate in class."
      ],
      "metadata": {
        "id": "qMPYjDL7PFSN"
      }
    },
    {
      "cell_type": "code",
      "source": [
        "sns.lmplot(\n",
        "    data=merged_survey,\n",
        "    x=\"CVQ4_likeliness_participate_val\",\n",
        "    y=\"post_class_class_participation_val\",\n",
        "    hue=\"Treatment\")\n",
        "\n",
        "plt.xlabel(\"Likeliness to Participate Before Treatment\")\n",
        "plt.ylabel(\"Participation After Treatment\")\n",
        "plt.show()"
      ],
      "metadata": {
        "colab": {
          "base_uri": "https://localhost:8080/",
          "height": 506
        },
        "id": "9SGXZSlJSM_T",
        "outputId": "b647afa3-b998-4692-942b-4a54a1d11d2b"
      },
      "execution_count": null,
      "outputs": [
        {
          "output_type": "display_data",
          "data": {
            "text/plain": [
              "<Figure size 581.986x500 with 1 Axes>"
            ],
            "image/png": "[encoded data removed]"
          },
          "metadata": {}
        }
      ]
    },
    {
      "cell_type": "markdown",
      "source": [
        "Participation scores before and After treatment have a strong correlation."
      ],
      "metadata": {
        "id": "-yahi5LbSeI8"
      }
    },
    {
      "cell_type": "code",
      "source": [
        "sns.lmplot(\n",
        "    data=merged_survey,\n",
        "    x=\"RQ1_understand_material_val\",\n",
        "    y=\"post_class_class_participation_val\",\n",
        "    hue= 'Treatment')\n",
        "\n",
        "plt.xlabel(\"% Material understood by student\")\n",
        "plt.ylabel(\"Participate After Treatment\")\n",
        "plt.show()"
      ],
      "metadata": {
        "colab": {
          "base_uri": "https://localhost:8080/",
          "height": 506
        },
        "id": "aBDAv8_tUhE6",
        "outputId": "0726034d-ff2c-4d38-fb25-daabee8577aa"
      },
      "execution_count": null,
      "outputs": [
        {
          "output_type": "display_data",
          "data": {
            "text/plain": [
              "<Figure size 581.986x500 with 1 Axes>"
            ],
            "image/png": "[encoded data removed]"
          },
          "metadata": {}
        }
      ]
    },
    {
      "cell_type": "markdown",
      "source": [
        "Understanding the material has a correlation with participation in the class.\n"
      ],
      "metadata": {
        "id": "wJvTaGtdVVth"
      }
    },
    {
      "cell_type": "code",
      "source": [
        "sns.lmplot(\n",
        "    data=merged_survey,\n",
        "    x=\"RQ2_remember_tomorrow_val\",\n",
        "    y=\"post_class_recall_val\",\n",
        ")\n",
        "\n",
        "plt.xlabel(\"How much the student thought they would remember\")\n",
        "plt.ylabel(\"How much the student remembered in class\")\n",
        "plt.show()"
      ],
      "metadata": {
        "colab": {
          "base_uri": "https://localhost:8080/",
          "height": 506
        },
        "id": "h-GHIjUmTIfT",
        "outputId": "92c0abed-1833-4479-a823-3c99c30a2c22"
      },
      "execution_count": null,
      "outputs": [
        {
          "output_type": "display_data",
          "data": {
            "text/plain": [
              "<Figure size 500x500 with 1 Axes>"
            ],
            "image/png": "[encoded data removed]"
          },
          "metadata": {}
        }
      ]
    },
    {
      "cell_type": "markdown",
      "source": [
        "Indicates that whatever the student thought they would remember in class (RQ2_remember_tomorrow_val), might not be an accurate representation of how much the student actually remembered in class."
      ],
      "metadata": {
        "id": "y4O9FscdUE4a"
      }
    },
    {
      "cell_type": "code",
      "source": [
        "sns.lmplot(\n",
        "    data=merged_survey[merged_survey['Treatment']==1],\n",
        "    x=\"post_class_class_participation_val\",\n",
        "    y=\"Score\")\n",
        "\n",
        "plt.xlabel(\"Participation in class\")\n",
        "plt.ylabel(\"Score on the Quiz\")\n",
        "plt.show()"
      ],
      "metadata": {
        "colab": {
          "base_uri": "https://localhost:8080/",
          "height": 506
        },
        "id": "mIotFu3rQ778",
        "outputId": "eb4bf562-df10-48d4-9447-cc793527d23c"
      },
      "execution_count": null,
      "outputs": [
        {
          "output_type": "display_data",
          "data": {
            "text/plain": [
              "<Figure size 500x500 with 1 Axes>"
            ],
            "image/png": "[encoded data removed]"
          },
          "metadata": {}
        }
      ]
    },
    {
      "cell_type": "markdown",
      "source": [
        "Scoring high on the quiz does not seem to have a strong relationship with class participation"
      ],
      "metadata": {
        "id": "tR-EU15IRUP7"
      }
    },
    {
      "cell_type": "code",
      "source": [
        "merged_survey.groupby('Treatment')['post_class_willingness_to_participate_bool'].value_counts()*100/ merged_survey.groupby('Treatment')['post_class_willingness_to_participate_bool'].count()"
      ],
      "metadata": {
        "colab": {
          "base_uri": "https://localhost:8080/",
          "height": 241
        },
        "id": "8XVWOZ9bXcdn",
        "outputId": "a33a9ca1-b3ac-4574-c92b-5114cc115449"
      },
      "execution_count": null,
      "outputs": [
        {
          "output_type": "execute_result",
          "data": {
            "text/plain": [
              "Treatment  post_class_willingness_to_participate_bool\n",
              "0.0        1.0                                           75.757576\n",
              "           0.0                                           24.242424\n",
              "1.0        1.0                                           68.965517\n",
              "           0.0                                           31.034483\n",
              "dtype: float64"
            ],
            "text/html": [
              "<div>\n",
              "<style scoped>\n",
              "    .dataframe tbody tr th:only-of-type {\n",
              "        vertical-align: middle;\n",
              "    }\n",
              "\n",
              "    .dataframe tbody tr th {\n",
              "        vertical-align: top;\n",
              "    }\n",
              "\n",
              "    .dataframe thead th {\n",
              "        text-align: right;\n",
              "    }\n",
              "</style>\n",
              "<table border=\"1\" class=\"dataframe\">\n",
              "  <thead>\n",
              "    <tr style=\"text-align: right;\">\n",
              "      <th></th>\n",
              "      <th></th>\n",
              "      <th>0</th>\n",
              "    </tr>\n",
              "    <tr>\n",
              "      <th>Treatment</th>\n",
              "      <th>post_class_willingness_to_participate_bool</th>\n",
              "      <th></th>\n",
              "    </tr>\n",
              "  </thead>\n",
              "  <tbody>\n",
              "    <tr>\n",
              "      <th rowspan=\"2\" valign=\"top\">0.0</th>\n",
              "      <th>1.0</th>\n",
              "      <td>75.757576</td>\n",
              "    </tr>\n",
              "    <tr>\n",
              "      <th>0.0</th>\n",
              "      <td>24.242424</td>\n",
              "    </tr>\n",
              "    <tr>\n",
              "      <th rowspan=\"2\" valign=\"top\">1.0</th>\n",
              "      <th>1.0</th>\n",
              "      <td>68.965517</td>\n",
              "    </tr>\n",
              "    <tr>\n",
              "      <th>0.0</th>\n",
              "      <td>31.034483</td>\n",
              "    </tr>\n",
              "  </tbody>\n",
              "</table>\n",
              "</div><br><label><b>dtype:</b> float64</label>"
            ]
          },
          "metadata": {},
          "execution_count": 54
        }
      ]
    },
    {
      "cell_type": "markdown",
      "source": [
        "Interestingly, more percentage of people who got the quiz seemed to be more influenced to participate in class."
      ],
      "metadata": {
        "id": "9OrEtFuTYIFn"
      }
    },
    {
      "cell_type": "code",
      "source": [
        "merged_survey.groupby('Treatment')['post_class_choice'].value_counts()*100/ merged_survey.groupby('Treatment')['post_class_choice'].count()"
      ],
      "metadata": {
        "colab": {
          "base_uri": "https://localhost:8080/",
          "height": 303
        },
        "id": "RBg0mY7FYSEQ",
        "outputId": "254aff17-2649-4013-d4eb-fe48deab978e"
      },
      "execution_count": null,
      "outputs": [
        {
          "output_type": "execute_result",
          "data": {
            "text/plain": [
              "Treatment  post_class_choice  \n",
              "0.0        Pre-written Notes      60.606061\n",
              "           Interactive Quizzes    36.363636\n",
              "           No Preference           3.030303\n",
              "1.0        Interactive Quizzes    41.379310\n",
              "           Pre-written Notes      41.379310\n",
              "           No Preference          17.241379\n",
              "dtype: float64"
            ],
            "text/html": [
              "<div>\n",
              "<style scoped>\n",
              "    .dataframe tbody tr th:only-of-type {\n",
              "        vertical-align: middle;\n",
              "    }\n",
              "\n",
              "    .dataframe tbody tr th {\n",
              "        vertical-align: top;\n",
              "    }\n",
              "\n",
              "    .dataframe thead th {\n",
              "        text-align: right;\n",
              "    }\n",
              "</style>\n",
              "<table border=\"1\" class=\"dataframe\">\n",
              "  <thead>\n",
              "    <tr style=\"text-align: right;\">\n",
              "      <th></th>\n",
              "      <th></th>\n",
              "      <th>0</th>\n",
              "    </tr>\n",
              "    <tr>\n",
              "      <th>Treatment</th>\n",
              "      <th>post_class_choice</th>\n",
              "      <th></th>\n",
              "    </tr>\n",
              "  </thead>\n",
              "  <tbody>\n",
              "    <tr>\n",
              "      <th rowspan=\"3\" valign=\"top\">0.0</th>\n",
              "      <th>Pre-written Notes</th>\n",
              "      <td>60.606061</td>\n",
              "    </tr>\n",
              "    <tr>\n",
              "      <th>Interactive Quizzes</th>\n",
              "      <td>36.363636</td>\n",
              "    </tr>\n",
              "    <tr>\n",
              "      <th>No Preference</th>\n",
              "      <td>3.030303</td>\n",
              "    </tr>\n",
              "    <tr>\n",
              "      <th rowspan=\"3\" valign=\"top\">1.0</th>\n",
              "      <th>Interactive Quizzes</th>\n",
              "      <td>41.379310</td>\n",
              "    </tr>\n",
              "    <tr>\n",
              "      <th>Pre-written Notes</th>\n",
              "      <td>41.379310</td>\n",
              "    </tr>\n",
              "    <tr>\n",
              "      <th>No Preference</th>\n",
              "      <td>17.241379</td>\n",
              "    </tr>\n",
              "  </tbody>\n",
              "</table>\n",
              "</div><br><label><b>dtype:</b> float64</label>"
            ]
          },
          "metadata": {},
          "execution_count": 55
        }
      ]
    },
    {
      "cell_type": "markdown",
      "source": [
        "People seem to be inclined towards the pre-written notes"
      ],
      "metadata": {
        "id": "JoBaRzGmYsjn"
      }
    },
    {
      "cell_type": "markdown",
      "source": [
        "Other"
      ],
      "metadata": {
        "id": "6Z2xUww3QDbw"
      }
    },
    {
      "cell_type": "code",
      "source": [
        "#Expressed in percentage\n",
        "pre_survey.groupby('Treatment')['pre_class_DistributionChannel'].value_counts()*100/pre_survey.groupby('Treatment')['pre_class_DistributionChannel'].count()"
      ],
      "metadata": {
        "colab": {
          "base_uri": "https://localhost:8080/",
          "height": 241
        },
        "id": "9HMyNsWyQJL2",
        "outputId": "986fbd2c-da9b-4680-ced8-86e76013d908"
      },
      "execution_count": null,
      "outputs": [
        {
          "output_type": "execute_result",
          "data": {
            "text/plain": [
              "Treatment  pre_class_DistributionChannel\n",
              "0.0        anonymous                        79.545455\n",
              "           qr                               20.454545\n",
              "1.0        anonymous                        80.434783\n",
              "           qr                               19.565217\n",
              "dtype: float64"
            ],
            "text/html": [
              "<div>\n",
              "<style scoped>\n",
              "    .dataframe tbody tr th:only-of-type {\n",
              "        vertical-align: middle;\n",
              "    }\n",
              "\n",
              "    .dataframe tbody tr th {\n",
              "        vertical-align: top;\n",
              "    }\n",
              "\n",
              "    .dataframe thead th {\n",
              "        text-align: right;\n",
              "    }\n",
              "</style>\n",
              "<table border=\"1\" class=\"dataframe\">\n",
              "  <thead>\n",
              "    <tr style=\"text-align: right;\">\n",
              "      <th></th>\n",
              "      <th></th>\n",
              "      <th>0</th>\n",
              "    </tr>\n",
              "    <tr>\n",
              "      <th>Treatment</th>\n",
              "      <th>pre_class_DistributionChannel</th>\n",
              "      <th></th>\n",
              "    </tr>\n",
              "  </thead>\n",
              "  <tbody>\n",
              "    <tr>\n",
              "      <th rowspan=\"2\" valign=\"top\">0.0</th>\n",
              "      <th>anonymous</th>\n",
              "      <td>79.545455</td>\n",
              "    </tr>\n",
              "    <tr>\n",
              "      <th>qr</th>\n",
              "      <td>20.454545</td>\n",
              "    </tr>\n",
              "    <tr>\n",
              "      <th rowspan=\"2\" valign=\"top\">1.0</th>\n",
              "      <th>anonymous</th>\n",
              "      <td>80.434783</td>\n",
              "    </tr>\n",
              "    <tr>\n",
              "      <th>qr</th>\n",
              "      <td>19.565217</td>\n",
              "    </tr>\n",
              "  </tbody>\n",
              "</table>\n",
              "</div><br><label><b>dtype:</b> float64</label>"
            ]
          },
          "metadata": {},
          "execution_count": 14
        }
      ]
    }
  ]
}