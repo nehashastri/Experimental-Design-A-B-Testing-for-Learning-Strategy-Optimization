{
  "nbformat": 4,
  "nbformat_minor": 0,
  "metadata": {
    "colab": {
      "provenance": []
    },
    "kernelspec": {
      "name": "python3",
      "display_name": "Python 3"
    },
    "language_info": {
      "name": "python"
    }
  },
  "cells": [
    {
      "cell_type": "code",
      "source": [
        "import pandas as pd\n",
        "import numpy as np"
      ],
      "metadata": {
        "id": "Keuo1YgJY9gh"
      },
      "execution_count": null,
      "outputs": []
    },
    {
      "cell_type": "code",
      "source": [
        "merged_survey = pd.read_csv('Merged_survey.csv')"
      ],
      "metadata": {
        "id": "uzgvIV7-Y-Le"
      },
      "execution_count": null,
      "outputs": []
    },
    {
      "cell_type": "code",
      "source": [
        "merged_survey.drop(columns=['RecipientEmail'], inplace=True)"
      ],
      "metadata": {
        "id": "6WZME2psgqO1"
      },
      "execution_count": null,
      "outputs": []
    },
    {
      "cell_type": "code",
      "source": [
        "merged_survey['Treatment'].head()"
      ],
      "metadata": {
        "colab": {
          "base_uri": "https://localhost:8080/",
          "height": 241
        },
        "id": "13HFTDCJJf-0",
        "outputId": "941d6e3f-2518-4217-f970-9077fa838e6a"
      },
      "execution_count": null,
      "outputs": [
        {
          "output_type": "execute_result",
          "data": {
            "text/plain": [
              "0    0.0\n",
              "1    1.0\n",
              "2    1.0\n",
              "3    0.0\n",
              "4    0.0\n",
              "Name: Treatment, dtype: float64"
            ],
            "text/html": [
              "<div>\n",
              "<style scoped>\n",
              "    .dataframe tbody tr th:only-of-type {\n",
              "        vertical-align: middle;\n",
              "    }\n",
              "\n",
              "    .dataframe tbody tr th {\n",
              "        vertical-align: top;\n",
              "    }\n",
              "\n",
              "    .dataframe thead th {\n",
              "        text-align: right;\n",
              "    }\n",
              "</style>\n",
              "<table border=\"1\" class=\"dataframe\">\n",
              "  <thead>\n",
              "    <tr style=\"text-align: right;\">\n",
              "      <th></th>\n",
              "      <th>Treatment</th>\n",
              "    </tr>\n",
              "  </thead>\n",
              "  <tbody>\n",
              "    <tr>\n",
              "      <th>0</th>\n",
              "      <td>0.0</td>\n",
              "    </tr>\n",
              "    <tr>\n",
              "      <th>1</th>\n",
              "      <td>1.0</td>\n",
              "    </tr>\n",
              "    <tr>\n",
              "      <th>2</th>\n",
              "      <td>1.0</td>\n",
              "    </tr>\n",
              "    <tr>\n",
              "      <th>3</th>\n",
              "      <td>0.0</td>\n",
              "    </tr>\n",
              "    <tr>\n",
              "      <th>4</th>\n",
              "      <td>0.0</td>\n",
              "    </tr>\n",
              "  </tbody>\n",
              "</table>\n",
              "</div><br><label><b>dtype:</b> float64</label>"
            ]
          },
          "metadata": {},
          "execution_count": 5
        }
      ]
    },
    {
      "cell_type": "code",
      "source": [
        "merged_survey['Treatment'] = merged_survey['Treatment'].astype(int)"
      ],
      "metadata": {
        "id": "VxbHcg6SJ28l"
      },
      "execution_count": null,
      "outputs": []
    },
    {
      "cell_type": "code",
      "source": [
        "merged_survey.info()"
      ],
      "metadata": {
        "colab": {
          "base_uri": "https://localhost:8080/"
        },
        "id": "LZxeG_vxgWlZ",
        "outputId": "b2d17058-e26c-4f33-d262-2d1f6f10c57c"
      },
      "execution_count": null,
      "outputs": [
        {
          "output_type": "stream",
          "name": "stdout",
          "text": [
            "<class 'pandas.core.frame.DataFrame'>\n",
            "RangeIndex: 35 entries, 0 to 34\n",
            "Data columns (total 22 columns):\n",
            " #   Column                                      Non-Null Count  Dtype  \n",
            "---  ------                                      --------------  -----  \n",
            " 0   pre_class_time_spent                        35 non-null     int64  \n",
            " 1   pre_class_DistributionChannel               35 non-null     object \n",
            " 2   CVQ1_gender_bool                            35 non-null     float64\n",
            " 3   CVQ2_read_stubhub_case_bool                 35 non-null     float64\n",
            " 4   CVQ3_knowledge_causality_val                35 non-null     float64\n",
            " 5   CVQ4_likeliness_participate_val             35 non-null     float64\n",
            " 6   RQ1_understand_material_val                 35 non-null     float64\n",
            " 7   RQ2_remember_tomorrow_val                   35 non-null     float64\n",
            " 8   RQ3_active_involvement_val                  35 non-null     float64\n",
            " 9   Score                                       35 non-null     int64  \n",
            " 10  Treatment                                   35 non-null     int64  \n",
            " 11  Progress                                    35 non-null     float64\n",
            " 12  pre_class_incomplete                        35 non-null     int64  \n",
            " 13  post_class_time_spent                       35 non-null     int64  \n",
            " 14  post_class_DistributionChannel              35 non-null     object \n",
            " 15  post_class_recall_val                       35 non-null     float64\n",
            " 16  post_class_class_participation_val          35 non-null     float64\n",
            " 17  post_class_preparedness_val                 35 non-null     float64\n",
            " 18  post_class_willingness_to_participate_bool  35 non-null     float64\n",
            " 19  post_class_choice                           35 non-null     object \n",
            " 20  post_class_feedback                         6 non-null      object \n",
            " 21  post_class_incomplete                       35 non-null     float64\n",
            "dtypes: float64(13), int64(5), object(4)\n",
            "memory usage: 6.1+ KB\n"
          ]
        }
      ]
    },
    {
      "cell_type": "code",
      "source": [
        "import numpy as np\n",
        "\n",
        "# Function to calculate Cohen's d\n",
        "def cohens_d(group1, group2):\n",
        "    # Calculate the means and standard deviations of both groups\n",
        "    mean1, mean2 = np.mean(group1), np.mean(group2)\n",
        "    std1, std2 = np.std(group1, ddof=1), np.std(group2, ddof=1)\n",
        "\n",
        "    # Pooled standard deviation\n",
        "    pooled_std = np.sqrt(((len(group1) - 1) * std1**2 + (len(group2) - 1) * std2**2) / (len(group1) + len(group2) - 2))\n",
        "\n",
        "    # Cohen's d formula\n",
        "    return (mean1 - mean2) / pooled_std\n",
        "\n",
        "# Define the response variables\n",
        "response_vars = ['RQ1_understand_material_val', 'post_class_class_participation_val', 'post_class_recall_val']\n",
        "\n",
        "# Results storage\n",
        "cohens_d_results = {}\n",
        "\n",
        "# Analyze each response variable\n",
        "for response_var in response_vars:\n",
        "    control_group = merged_survey[merged_survey['Treatment'] == 0][response_var]\n",
        "    treatment_group = merged_survey[merged_survey['Treatment'] == 1][response_var]\n",
        "\n",
        "    # Cohen's d\n",
        "    cohens_d_results[response_var] = cohens_d(treatment_group, control_group)\n",
        "\n",
        "cohens_d_results"
      ],
      "metadata": {
        "colab": {
          "base_uri": "https://localhost:8080/"
        },
        "id": "-y4lUU0ulvno",
        "outputId": "7e48ab67-a42a-42e7-fe52-a5bf8a60f958"
      },
      "execution_count": null,
      "outputs": [
        {
          "output_type": "execute_result",
          "data": {
            "text/plain": [
              "{'RQ1_understand_material_val': 0.24025492113602034,\n",
              " 'post_class_class_participation_val': 0.1283647525315742,\n",
              " 'post_class_recall_val': -0.10772428782883381}"
            ]
          },
          "metadata": {},
          "execution_count": 5
        }
      ]
    },
    {
      "cell_type": "markdown",
      "source": [
        "- RQ1_understand_material_val: 0.2403 (small effect)\n",
        "- post_class_class_participation_val: 0.1283 (small effect)\n",
        "- post_class_recall_val: -0.1077 (small effect)"
      ],
      "metadata": {
        "id": "LdbQZw1AoTK5"
      }
    },
    {
      "cell_type": "code",
      "source": [
        "import pingouin as pg\n",
        "rq1_power = pg.power_ttest(d=cohens_d_results['RQ1_understand_material_val'], n=len(merged_survey), alpha=0.05, alternative='two-sided')\n",
        "participation_power = pg.power_ttest(d=cohens_d_results['post_class_class_participation_val'], n=len(merged_survey), alpha=0.05, alternative='two-sided')\n",
        "recall_power = pg.power_ttest(d=cohens_d_results['post_class_recall_val'], n=len(merged_survey), alpha=0.05, alternative='two-sided')\n",
        "print(f\"RQ1 Power: {rq1_power}\")\n",
        "print(f\"Participation Power: {participation_power}\")\n",
        "print(f\"Recall Power: {recall_power}\")"
      ],
      "metadata": {
        "colab": {
          "base_uri": "https://localhost:8080/"
        },
        "id": "ZTum3wf-eVgC",
        "outputId": "ec11dc22-f305-407c-c278-eb20a34791dc"
      },
      "execution_count": null,
      "outputs": [
        {
          "output_type": "stream",
          "name": "stdout",
          "text": [
            "RQ1 Power: 0.16784340907453155\n",
            "Participation Power: 0.08268141243262343\n",
            "Recall Power: 0.07290587685255286\n"
          ]
        }
      ]
    },
    {
      "cell_type": "code",
      "source": [
        "from scipy import stats\n",
        "\n",
        "import statsmodels.api as sm\n",
        "import statsmodels.stats.api as sms\n",
        "count = (merged_survey['Treatment'] == 1).sum()\n",
        "nobs = len(merged_survey)\n",
        "stat, pval = sms.proportions_ztest(count, nobs, value = 0.5)\n",
        "print(f\"Z-statistic: {stat:.4f}, P-value: {pval:.4f}\")"
      ],
      "metadata": {
        "colab": {
          "base_uri": "https://localhost:8080/"
        },
        "id": "HFw9Io31mMto",
        "outputId": "e2c8d01e-38cd-4227-f2d9-aee8c355dcac"
      },
      "execution_count": null,
      "outputs": [
        {
          "output_type": "stream",
          "name": "stdout",
          "text": [
            "Z-statistic: -1.5742, P-value: 0.1154\n"
          ]
        }
      ]
    },
    {
      "cell_type": "code",
      "source": [
        "!pip install pingouin"
      ],
      "metadata": {
        "colab": {
          "base_uri": "https://localhost:8080/"
        },
        "id": "sngvmp05NtSt",
        "outputId": "76fe1d7d-c463-4c8d-afcd-47edf00abd9b"
      },
      "execution_count": null,
      "outputs": [
        {
          "output_type": "stream",
          "name": "stdout",
          "text": [
            "Collecting pingouin\n",
            "  Downloading pingouin-0.5.5-py3-none-any.whl.metadata (19 kB)\n",
            "Requirement already satisfied: matplotlib in /usr/local/lib/python3.11/dist-packages (from pingouin) (3.10.0)\n",
            "Requirement already satisfied: numpy in /usr/local/lib/python3.11/dist-packages (from pingouin) (1.26.4)\n",
            "Requirement already satisfied: pandas>=1.5 in /usr/local/lib/python3.11/dist-packages (from pingouin) (2.2.2)\n",
            "Collecting pandas-flavor (from pingouin)\n",
            "  Downloading pandas_flavor-0.6.0-py3-none-any.whl.metadata (6.3 kB)\n",
            "Requirement already satisfied: scikit-learn>=1.2 in /usr/local/lib/python3.11/dist-packages (from pingouin) (1.6.1)\n",
            "Requirement already satisfied: scipy in /usr/local/lib/python3.11/dist-packages (from pingouin) (1.13.1)\n",
            "Requirement already satisfied: seaborn in /usr/local/lib/python3.11/dist-packages (from pingouin) (0.13.2)\n",
            "Requirement already satisfied: statsmodels in /usr/local/lib/python3.11/dist-packages (from pingouin) (0.14.4)\n",
            "Requirement already satisfied: tabulate in /usr/local/lib/python3.11/dist-packages (from pingouin) (0.9.0)\n",
            "Requirement already satisfied: python-dateutil>=2.8.2 in /usr/local/lib/python3.11/dist-packages (from pandas>=1.5->pingouin) (2.8.2)\n",
            "Requirement already satisfied: pytz>=2020.1 in /usr/local/lib/python3.11/dist-packages (from pandas>=1.5->pingouin) (2025.1)\n",
            "Requirement already satisfied: tzdata>=2022.7 in /usr/local/lib/python3.11/dist-packages (from pandas>=1.5->pingouin) (2025.1)\n",
            "Requirement already satisfied: joblib>=1.2.0 in /usr/local/lib/python3.11/dist-packages (from scikit-learn>=1.2->pingouin) (1.4.2)\n",
            "Requirement already satisfied: threadpoolctl>=3.1.0 in /usr/local/lib/python3.11/dist-packages (from scikit-learn>=1.2->pingouin) (3.5.0)\n",
            "Requirement already satisfied: contourpy>=1.0.1 in /usr/local/lib/python3.11/dist-packages (from matplotlib->pingouin) (1.3.1)\n",
            "Requirement already satisfied: cycler>=0.10 in /usr/local/lib/python3.11/dist-packages (from matplotlib->pingouin) (0.12.1)\n",
            "Requirement already satisfied: fonttools>=4.22.0 in /usr/local/lib/python3.11/dist-packages (from matplotlib->pingouin) (4.56.0)\n",
            "Requirement already satisfied: kiwisolver>=1.3.1 in /usr/local/lib/python3.11/dist-packages (from matplotlib->pingouin) (1.4.8)\n",
            "Requirement already satisfied: packaging>=20.0 in /usr/local/lib/python3.11/dist-packages (from matplotlib->pingouin) (24.2)\n",
            "Requirement already satisfied: pillow>=8 in /usr/local/lib/python3.11/dist-packages (from matplotlib->pingouin) (11.1.0)\n",
            "Requirement already satisfied: pyparsing>=2.3.1 in /usr/local/lib/python3.11/dist-packages (from matplotlib->pingouin) (3.2.1)\n",
            "Requirement already satisfied: xarray in /usr/local/lib/python3.11/dist-packages (from pandas-flavor->pingouin) (2025.1.2)\n",
            "Requirement already satisfied: patsy>=0.5.6 in /usr/local/lib/python3.11/dist-packages (from statsmodels->pingouin) (1.0.1)\n",
            "Requirement already satisfied: six>=1.5 in /usr/local/lib/python3.11/dist-packages (from python-dateutil>=2.8.2->pandas>=1.5->pingouin) (1.17.0)\n",
            "Downloading pingouin-0.5.5-py3-none-any.whl (204 kB)\n",
            "\u001b[2K   \u001b[90m━━━━━━━━━━━━━━━━━━━━━━━━━━━━━━━━━━━━━━━━\u001b[0m \u001b[32m204.4/204.4 kB\u001b[0m \u001b[31m4.3 MB/s\u001b[0m eta \u001b[36m0:00:00\u001b[0m\n",
            "\u001b[?25hDownloading pandas_flavor-0.6.0-py3-none-any.whl (7.2 kB)\n",
            "Installing collected packages: pandas-flavor, pingouin\n",
            "Successfully installed pandas-flavor-0.6.0 pingouin-0.5.5\n"
          ]
        }
      ]
    },
    {
      "cell_type": "code",
      "source": [
        "!pip install stargazer"
      ],
      "metadata": {
        "colab": {
          "base_uri": "https://localhost:8080/"
        },
        "id": "EFqI8xYnOXD7",
        "outputId": "4588d924-084e-46b3-8fa6-65f2b0889c9b"
      },
      "execution_count": null,
      "outputs": [
        {
          "output_type": "stream",
          "name": "stdout",
          "text": [
            "Collecting stargazer\n",
            "  Downloading stargazer-0.0.7-py3-none-any.whl.metadata (6.3 kB)\n",
            "Downloading stargazer-0.0.7-py3-none-any.whl (15 kB)\n",
            "Installing collected packages: stargazer\n",
            "Successfully installed stargazer-0.0.7\n"
          ]
        }
      ]
    },
    {
      "cell_type": "code",
      "source": [
        "import statsmodels.formula.api as smf\n",
        "from stargazer.stargazer import Stargazer\n",
        "\n",
        "CV1 = smf.ols(\"CVQ1_gender_bool ~ Treatment\", data=merged_survey).fit(cov_type='HC1')\n",
        "CV2 = smf.ols(\"CVQ2_read_stubhub_case_bool ~ Treatment\", data=merged_survey).fit(cov_type='HC1')\n",
        "CV3 = smf.ols(\"CVQ3_knowledge_causality_val ~ Treatment\", data=merged_survey).fit(cov_type='HC1')\n",
        "CV4 = smf.ols(\"CVQ4_likeliness_participate_val\t ~ Treatment\", data=merged_survey).fit(cov_type='HC1')\n",
        "\n",
        "reg_cv = Stargazer([CV1, CV2, CV3, CV4])\n",
        "reg_cv"
      ],
      "metadata": {
        "colab": {
          "base_uri": "https://localhost:8080/",
          "height": 294
        },
        "id": "A-Y3Vz0UnzZA",
        "outputId": "2ecc46b5-f27a-4d47-cd6d-8778a038d725"
      },
      "execution_count": null,
      "outputs": [
        {
          "output_type": "execute_result",
          "data": {
            "text/plain": [
              "<stargazer.stargazer.Stargazer at 0x7e6052d909d0>"
            ],
            "text/html": [
              "<table style=\"text-align:center\"><tr><td colspan=\"5\" style=\"border-bottom: 1px solid black\"></td></tr>\n",
              "<tr><td style=\"text-align:left\"></td><tr><td style=\"text-align:left\"></td><td>(1)</td><td>(2)</td><td>(3)</td><td>(4)</td></tr>\n",
              "<tr><td colspan=\"5\" style=\"border-bottom: 1px solid black\"></td></tr>\n",
              "\n",
              "<tr><td style=\"text-align:left\">Intercept</td><td>0.591<sup>***</sup></td><td>0.773<sup>***</sup></td><td>61.636<sup>***</sup></td><td>68.955<sup>***</sup></td></tr>\n",
              "<tr><td style=\"text-align:left\"></td><td>(0.108)</td><td>(0.092)</td><td>(3.589)</td><td>(5.279)</td></tr>\n",
              "<tr><td style=\"text-align:left\">Treatment</td><td>-0.052<sup></sup></td><td>0.150<sup></sup></td><td>0.748<sup></sup></td><td>2.507<sup></sup></td></tr>\n",
              "<tr><td style=\"text-align:left\"></td><td>(0.179)</td><td>(0.119)</td><td>(5.078)</td><td>(7.772)</td></tr>\n",
              "\n",
              "<td colspan=\"5\" style=\"border-bottom: 1px solid black\"></td></tr>\n",
              "<tr><td style=\"text-align: left\">Observations</td><td>35</td><td>35</td><td>35</td><td>35</td></tr><tr><td style=\"text-align: left\">R<sup>2</sup></td><td>0.003</td><td>0.037</td><td>0.001</td><td>0.003</td></tr><tr><td style=\"text-align: left\">Adjusted R<sup>2</sup></td><td>-0.028</td><td>0.008</td><td>-0.030</td><td>-0.027</td></tr><tr><td style=\"text-align: left\">Residual Std. Error</td><td>0.509 (df=33)</td><td>0.381 (df=33)</td><td>15.506 (df=33)</td><td>23.291 (df=33)</td></tr><tr><td style=\"text-align: left\">F Statistic</td><td>0.086<sup></sup> (df=1; 33)</td><td>1.585<sup></sup> (df=1; 33)</td><td>0.022<sup></sup> (df=1; 33)</td><td>0.104<sup></sup> (df=1; 33)</td></tr>\n",
              "<tr><td colspan=\"5\" style=\"border-bottom: 1px solid black\"></td></tr><tr><td style=\"text-align: left\">Note:</td><td colspan=\"4\" style=\"text-align: right\"><sup>*</sup>p&lt;0.1; <sup>**</sup>p&lt;0.05; <sup>***</sup>p&lt;0.01</td></tr></table>"
            ]
          },
          "metadata": {},
          "execution_count": 12
        }
      ]
    }
  ]
}